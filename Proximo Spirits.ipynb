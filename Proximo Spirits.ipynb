{
  "nbformat": 4,
  "nbformat_minor": 0,
  "metadata": {
    "colab": {
      "provenance": [],
      "gpuType": "T4",
      "machine_shape": "hm",
      "mount_file_id": "https://github.com/ethanmarshallanalytics/Proximo-Spirits-Aggregation/blob/main/Proximo%20Spirits.ipynb",
      "authorship_tag": "ABX9TyOROY4NDCtiEhWutbu/EA9R",
      "include_colab_link": true
    },
    "kernelspec": {
      "name": "python3",
      "display_name": "Python 3"
    },
    "language_info": {
      "name": "python"
    },
    "accelerator": "GPU"
  },
  "cells": [
    {
      "cell_type": "markdown",
      "metadata": {
        "id": "view-in-github",
        "colab_type": "text"
      },
      "source": [
        "<a href=\"https://colab.research.google.com/github/ethanmarshallanalytics/Proximo-Spirits-Aggregation/blob/main/Proximo%20Spirits.ipynb\" target=\"_parent\"><img src=\"https://colab.research.google.com/assets/colab-badge.svg\" alt=\"Open In Colab\"/></a>"
      ]
    },
    {
      "cell_type": "code",
      "source": [
        "from google.colab import drive\n",
        "drive.mount('/content/drive')"
      ],
      "metadata": {
        "id": "j_HQaWyBYqdA",
        "outputId": "8b94b2d6-8a83-4483-dcd9-50d5ed363b7e",
        "colab": {
          "base_uri": "https://localhost:8080/"
        }
      },
      "execution_count": 1,
      "outputs": [
        {
          "output_type": "stream",
          "name": "stdout",
          "text": [
            "Drive already mounted at /content/drive; to attempt to forcibly remount, call drive.mount(\"/content/drive\", force_remount=True).\n"
          ]
        }
      ]
    },
    {
      "cell_type": "markdown",
      "source": [
        "## Create combined_df\n",
        "Combines data from 2022-2024 and concatnates into one df"
      ],
      "metadata": {
        "id": "9DTZISQc9ZwS"
      }
    },
    {
      "cell_type": "code",
      "source": [
        "import pandas as pd\n",
        "df_2024 = pd.read_csv('/content/drive/MyDrive/PA - Test 2024_PA - Test 2024.csv')\n",
        "df_2024['Year'] = '2024'\n",
        "df_2023 = pd.read_csv('/content/drive/MyDrive/PA - Test 2023_PA - Test 2023.csv')\n",
        "df_2023['Year'] = '2023'\n",
        "df_2022 = pd.read_csv('/content/drive/MyDrive/PA - Test 2022_PA - Test 2022.csv')\n",
        "df_2022['Year'] = '2022'\n",
        "combined_df = pd.concat([df_2022, df_2023, df_2024], ignore_index=True)"
      ],
      "metadata": {
        "colab": {
          "base_uri": "https://localhost:8080/"
        },
        "id": "nnSps0Zd8fYA",
        "outputId": "ec062a29-12d1-4e1d-9d35-f38eeeb764ba"
      },
      "execution_count": 2,
      "outputs": [
        {
          "output_type": "stream",
          "name": "stderr",
          "text": [
            "<ipython-input-2-f82f9ed7a201>:2: DtypeWarning: Columns (1,8,9,10,11,12,13,14) have mixed types. Specify dtype option on import or set low_memory=False.\n",
            "  df_2024 = pd.read_csv('/content/drive/MyDrive/PA - Test 2024_PA - Test 2024.csv')\n",
            "<ipython-input-2-f82f9ed7a201>:4: DtypeWarning: Columns (1,8,9,10,11,12,13,14,21) have mixed types. Specify dtype option on import or set low_memory=False.\n",
            "  df_2023 = pd.read_csv('/content/drive/MyDrive/PA - Test 2023_PA - Test 2023.csv')\n",
            "<ipython-input-2-f82f9ed7a201>:6: DtypeWarning: Columns (1,8,9,10,11,12,13,14) have mixed types. Specify dtype option on import or set low_memory=False.\n",
            "  df_2022 = pd.read_csv('/content/drive/MyDrive/PA - Test 2022_PA - Test 2022.csv')\n"
          ]
        }
      ]
    },
    {
      "cell_type": "markdown",
      "source": [
        "## Subset on Proximo Spirit Vendor Brands"
      ],
      "metadata": {
        "id": "hZ7MEUAT9hDK"
      }
    },
    {
      "cell_type": "code",
      "source": [
        "proximo_vendor = combined_df[combined_df['Vendor'] == 'PROXIMO SPIRITS  ( 6108 )']\n",
        "len(proximo_vendor)\n",
        "#columns_to_keep = ['Year', 'Age', 'Brand Full', 'Class', \"DISCUS Brand Family\",\"DISCUS Major Category\", \"DISCUS Minor 1\", \"DISCUS Minor 2\", \"Imported Domestic\",\n",
        "#                   'Cases 9L', 'Dollars Shelf', 'Store Licensee Name']\n",
        "subset_df = proximo_vendor[columns_to_keep]\n",
        "dim = subset_df.shape\n",
        "print(dim[0])\n",
        "print(dim[1])"
      ],
      "metadata": {
        "colab": {
          "base_uri": "https://localhost:8080/"
        },
        "id": "x-6CVHkF-ZSz",
        "outputId": "f1513256-13c2-4450-bb44-1e24cc29ba34"
      },
      "execution_count": 4,
      "outputs": [
        {
          "output_type": "stream",
          "name": "stdout",
          "text": [
            "860188\n",
            "11\n"
          ]
        }
      ]
    },
    {
      "cell_type": "markdown",
      "source": [
        "## ALL VENDORS ON CERTAIN CATEGORIES"
      ],
      "metadata": {
        "id": "mNe6ozfIHNXQ"
      }
    },
    {
      "cell_type": "code",
      "source": [
        "dim = combined_df.shape\n",
        "print(dim[0])\n",
        "print(dim[1])"
      ],
      "metadata": {
        "colab": {
          "base_uri": "https://localhost:8080/"
        },
        "id": "WAx0VC3fZ05r",
        "outputId": "d225538e-0ca7-4613-f1b3-ebbbfeecdc7b"
      },
      "execution_count": null,
      "outputs": [
        {
          "output_type": "stream",
          "name": "stdout",
          "text": [
            "35710010\n",
            "35\n"
          ]
        }
      ]
    },
    {
      "cell_type": "code",
      "source": [
        "spirits = combined_df[combined_df['Beverage Type'] == 'SPIRITS']\n",
        "dim = spirits.shape\n",
        "print(dim[0])\n",
        "print(dim[1])"
      ],
      "metadata": {
        "colab": {
          "base_uri": "https://localhost:8080/"
        },
        "id": "S2eBI-XwZI9r",
        "outputId": "786bad08-42dc-401a-f5e8-ac9e1384e803"
      },
      "execution_count": 5,
      "outputs": [
        {
          "output_type": "stream",
          "name": "stdout",
          "text": [
            "19231600\n",
            "35\n"
          ]
        }
      ]
    },
    {
      "cell_type": "code",
      "source": [
        "proximo_class = proximo_vendor['DISCUS Major Category'].unique()\n",
        "print(proximo_class)"
      ],
      "metadata": {
        "colab": {
          "base_uri": "https://localhost:8080/"
        },
        "id": "lN41PwglojAH",
        "outputId": "e0e39bfe-20b4-4d92-b595-cde94bab0863"
      },
      "execution_count": 7,
      "outputs": [
        {
          "output_type": "stream",
          "name": "stdout",
          "text": [
            "['COCKTAILS' 'VODKA' 'TEQUILA' 'IRISH' 'RUM' 'DOMESTIC WHISKEY' 'CANADIAN'\n",
            " 'GIN']\n"
          ]
        }
      ]
    },
    {
      "cell_type": "markdown",
      "source": [
        "## All Vendor 2024"
      ],
      "metadata": {
        "id": "ddo3PVPLTWQl"
      }
    },
    {
      "cell_type": "code",
      "source": [
        "columns_to_keep = ['Year', 'Class', \"DISCUS Brand Family\",\"DISCUS Major Category\", \"DISCUS Minor 2\",\n",
        "                   'Cases 9L', 'Dollars Shelf', 'Store Licensee Name', 'Vendor', \"Premise Indicator\"]\n",
        "spirit = spirits[spirits['DISCUS Major Category'].isin(proximo_class)]\n",
        "spirit = spirits[spirits['Year'] == '2024']\n",
        "spirit = spirit[columns_to_keep]\n",
        "dim = spirit.shape\n",
        "print(dim[0])\n",
        "print(dim[1])"
      ],
      "metadata": {
        "colab": {
          "base_uri": "https://localhost:8080/"
        },
        "id": "zgNUTrnX-fw-",
        "outputId": "6bc2180d-db8a-4a22-d7ad-63006333e7ad"
      },
      "execution_count": 22,
      "outputs": [
        {
          "output_type": "stream",
          "name": "stdout",
          "text": [
            "9618880\n",
            "10\n"
          ]
        }
      ]
    },
    {
      "cell_type": "code",
      "source": [
        "spirit.to_csv(\"spirits_2024.csv\") # 2 hours to download"
      ],
      "metadata": {
        "id": "JyOTOkVwHPZn"
      },
      "execution_count": 24,
      "outputs": []
    },
    {
      "cell_type": "markdown",
      "source": [
        "All Vendor 2023"
      ],
      "metadata": {
        "id": "MP3wbZr5TcF8"
      }
    },
    {
      "cell_type": "code",
      "source": [
        "columns_to_keep = ['Year', 'Class', \"DISCUS Brand Family\",\"DISCUS Major Category\", \"DISCUS Minor 2\",\n",
        "                   'Cases 9L', 'Dollars Shelf', 'Store Licensee Name', 'Vendor', \"Premise Indicator\"]\n",
        "spirit = spirits[spirits['DISCUS Major Category'].isin(proximo_class)]\n",
        "spirit = spirits[spirits['Year'] == '2023']\n",
        "spirit = spirit[columns_to_keep]\n",
        "dim = spirit.shape\n",
        "print(dim[0])\n",
        "print(dim[1])"
      ],
      "metadata": {
        "id": "AfUWyXi7Tc0A"
      },
      "execution_count": null,
      "outputs": []
    },
    {
      "cell_type": "code",
      "source": [
        "spirit.to_csv(\"spirits_2023.csv\") # 4.25 hours to download"
      ],
      "metadata": {
        "id": "LtEFVDnpTdHC"
      },
      "execution_count": null,
      "outputs": []
    }
  ]
}