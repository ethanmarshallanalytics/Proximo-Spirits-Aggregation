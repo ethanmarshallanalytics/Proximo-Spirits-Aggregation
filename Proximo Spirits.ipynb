{
  "nbformat": 4,
  "nbformat_minor": 0,
  "metadata": {
    "colab": {
      "provenance": [],
      "gpuType": "T4",
      "machine_shape": "hm",
      "authorship_tag": "ABX9TyMQW4J8O7/GGQB7IeZNApuh",
      "include_colab_link": true
    },
    "kernelspec": {
      "name": "python3",
      "display_name": "Python 3"
    },
    "language_info": {
      "name": "python"
    },
    "accelerator": "GPU"
  },
  "cells": [
    {
      "cell_type": "markdown",
      "metadata": {
        "id": "view-in-github",
        "colab_type": "text"
      },
      "source": [
        "<a href=\"https://colab.research.google.com/github/ethanmarshallanalytics/Proximo-Spirits-Aggregation/blob/main/Proximo%20Spirits.ipynb\" target=\"_parent\"><img src=\"https://colab.research.google.com/assets/colab-badge.svg\" alt=\"Open In Colab\"/></a>"
      ]
    },
    {
      "cell_type": "code",
      "source": [
        "from google.colab import drive\n",
        "drive.mount('/content/drive')"
      ],
      "metadata": {
        "id": "j_HQaWyBYqdA",
        "outputId": "b0ce01b1-d5c5-4b49-f179-8f6782abdd7d",
        "colab": {
          "base_uri": "https://localhost:8080/"
        }
      },
      "execution_count": 2,
      "outputs": [
        {
          "output_type": "stream",
          "name": "stdout",
          "text": [
            "Drive already mounted at /content/drive; to attempt to forcibly remount, call drive.mount(\"/content/drive\", force_remount=True).\n"
          ]
        }
      ]
    },
    {
      "cell_type": "code",
      "source": [
        "import pandas as pd\n",
        "df_2024 = pd.read_csv('/content/drive/MyDrive/PA - Test 2024_PA - Test 2024.csv')\n"
      ],
      "metadata": {
        "id": "kwYLMkyGgFEQ",
        "outputId": "b854b6a8-1935-4545-fbd0-13d31a7a8194",
        "colab": {
          "base_uri": "https://localhost:8080/"
        }
      },
      "execution_count": 3,
      "outputs": [
        {
          "output_type": "stream",
          "name": "stderr",
          "text": [
            "<ipython-input-3-69df482335e0>:2: DtypeWarning: Columns (1,8,9,10,11,12,13,14) have mixed types. Specify dtype option on import or set low_memory=False.\n",
            "  df_2024 = pd.read_csv('/content/drive/MyDrive/PA - Test 2024_PA - Test 2024.csv')\n"
          ]
        }
      ]
    },
    {
      "cell_type": "code",
      "source": [
        "#columns_list = df_2024.columns.tolist()\n",
        "#print(columns_list)\n",
        "df_2024 = df_2024[df_2024['DISCUS Brand Family'].isin(['1800','BUSHMILLS', 'CUERVO', 'GRAN CENTENARIO','KRAKEN','MAESTRO DOBEL',\n",
        "                                                       'PENDLETON', 'PROPER NO TWELVE', 'STRANAHAN', 'THREE OLIVES', 'TINCUP'])]\n",
        "len(df_2024)"
      ],
      "metadata": {
        "id": "8lTCsbU6yiOi",
        "outputId": "ec270f82-3818-4842-ac36-4b8dc3ce2137",
        "colab": {
          "base_uri": "https://localhost:8080/"
        }
      },
      "execution_count": 4,
      "outputs": [
        {
          "output_type": "execute_result",
          "data": {
            "text/plain": [
              "134920"
            ]
          },
          "metadata": {},
          "execution_count": 4
        }
      ]
    },
    {
      "cell_type": "code",
      "source": [
        "df_2023 = pd.read_csv('/content/drive/MyDrive/PA - Test 2023_PA - Test 2023.csv')\n"
      ],
      "metadata": {
        "id": "hIwgFR64gWsA",
        "outputId": "341c0e9b-fa56-432a-c9eb-b1635d96d359",
        "colab": {
          "base_uri": "https://localhost:8080/"
        }
      },
      "execution_count": 5,
      "outputs": [
        {
          "output_type": "stream",
          "name": "stderr",
          "text": [
            "<ipython-input-5-dad516e98607>:1: DtypeWarning: Columns (1,8,9,10,11,12,13,14,21) have mixed types. Specify dtype option on import or set low_memory=False.\n",
            "  df_2023 = pd.read_csv('/content/drive/MyDrive/PA - Test 2023_PA - Test 2023.csv')\n"
          ]
        }
      ]
    },
    {
      "cell_type": "code",
      "source": [
        "df_2023 = df_2023[df_2023['DISCUS Brand Family'].isin(['1800','BUSHMILLS', 'CUERVO', 'GRAN CENTENARIO','KRAKEN','MAESTRO DOBEL',\n",
        "                                                       'PENDLETON', 'PROPER NO TWELVE', 'STRANAHAN', 'THREE OLIVES', 'TINCUP'])]\n",
        "len(df_2023)"
      ],
      "metadata": {
        "id": "TLmTdpEE6zZc",
        "outputId": "f013c28c-fdb8-4e17-ee1b-d45f18726d0b",
        "colab": {
          "base_uri": "https://localhost:8080/"
        }
      },
      "execution_count": 6,
      "outputs": [
        {
          "output_type": "execute_result",
          "data": {
            "text/plain": [
              "424201"
            ]
          },
          "metadata": {},
          "execution_count": 6
        }
      ]
    },
    {
      "cell_type": "code",
      "source": [
        "df_2022 = pd.read_csv('/content/drive/MyDrive/PA - Test 2022_PA - Test 2022.csv')"
      ],
      "metadata": {
        "id": "OVUHahWejZl6",
        "outputId": "f62c088f-a8db-4d9e-94f4-0ecb580630a1",
        "colab": {
          "base_uri": "https://localhost:8080/"
        }
      },
      "execution_count": 7,
      "outputs": [
        {
          "output_type": "stream",
          "name": "stderr",
          "text": [
            "<ipython-input-7-24cf255a5615>:1: DtypeWarning: Columns (1,8,9,10,11,12,13,14) have mixed types. Specify dtype option on import or set low_memory=False.\n",
            "  df_2022 = pd.read_csv('/content/drive/MyDrive/PA - Test 2022_PA - Test 2022.csv')\n"
          ]
        }
      ]
    },
    {
      "cell_type": "code",
      "source": [
        "df_2022 = df_2022[df_2022['DISCUS Brand Family'].isin(['1800','BUSHMILLS', 'CUERVO', 'GRAN CENTENARIO','KRAKEN','MAESTRO DOBEL',\n",
        "                                                       'PENDLETON', 'PROPER NO TWELVE', 'STRANAHAN', 'THREE OLIVES', 'TINCUP'])]\n",
        "len(df_2022)"
      ],
      "metadata": {
        "id": "5TltsU-4qQPJ",
        "outputId": "95c81542-09e6-4788-88d6-49451a4fa893",
        "colab": {
          "base_uri": "https://localhost:8080/"
        }
      },
      "execution_count": 8,
      "outputs": [
        {
          "output_type": "execute_result",
          "data": {
            "text/plain": [
              "290736"
            ]
          },
          "metadata": {},
          "execution_count": 8
        }
      ]
    },
    {
      "cell_type": "code",
      "source": [
        "unique_brands_list = df_2024['DISCUS Brand Family'].unique().tolist()\n",
        "print(unique_brands_list)"
      ],
      "metadata": {
        "id": "EinI0-V1r10B",
        "outputId": "daa148de-2cc2-4aa9-9a23-faf0a0e36f3f",
        "colab": {
          "base_uri": "https://localhost:8080/"
        }
      },
      "execution_count": 9,
      "outputs": [
        {
          "output_type": "stream",
          "name": "stdout",
          "text": [
            "['CUERVO', '1800', 'THREE OLIVES', 'PROPER NO TWELVE', 'MAESTRO DOBEL', 'KRAKEN', 'TINCUP', 'STRANAHAN', 'GRAN CENTENARIO', 'BUSHMILLS', 'PENDLETON']\n"
          ]
        }
      ]
    },
    {
      "cell_type": "markdown",
      "source": [
        "## Merging Datasets"
      ],
      "metadata": {
        "id": "KoQoLXQTplbw"
      }
    },
    {
      "cell_type": "code",
      "source": [
        "df_2324 = pd.merge(df_2023, df_2024, on = 'DISCUS Brand Family', how = 'inner')"
      ],
      "metadata": {
        "id": "ag67hjDHpkwU"
      },
      "execution_count": null,
      "outputs": []
    }
  ]
}