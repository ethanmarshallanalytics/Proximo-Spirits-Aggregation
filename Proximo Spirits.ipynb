{
  "nbformat": 4,
  "nbformat_minor": 0,
  "metadata": {
    "colab": {
      "provenance": [],
      "gpuType": "T4",
      "machine_shape": "hm",
      "mount_file_id": "https://github.com/ethanmarshallanalytics/Proximo-Spirits-Aggregation/blob/main/Proximo%20Spirits.ipynb",
      "authorship_tag": "ABX9TyMILMeQYX0Zv32l1VZ8Fzp5",
      "include_colab_link": true
    },
    "kernelspec": {
      "name": "python3",
      "display_name": "Python 3"
    },
    "language_info": {
      "name": "python"
    },
    "accelerator": "GPU"
  },
  "cells": [
    {
      "cell_type": "markdown",
      "metadata": {
        "id": "view-in-github",
        "colab_type": "text"
      },
      "source": [
        "<a href=\"https://colab.research.google.com/github/ethanmarshallanalytics/Proximo-Spirits-Aggregation/blob/main/Proximo%20Spirits.ipynb\" target=\"_parent\"><img src=\"https://colab.research.google.com/assets/colab-badge.svg\" alt=\"Open In Colab\"/></a>"
      ]
    },
    {
      "cell_type": "code",
      "source": [
        "from google.colab import drive\n",
        "drive.mount('/content/drive')"
      ],
      "metadata": {
        "id": "j_HQaWyBYqdA",
        "outputId": "952bf50f-8f7d-47a0-c11b-940578d9e83d",
        "colab": {
          "base_uri": "https://localhost:8080/"
        }
      },
      "execution_count": 1,
      "outputs": [
        {
          "output_type": "stream",
          "name": "stdout",
          "text": [
            "Drive already mounted at /content/drive; to attempt to forcibly remount, call drive.mount(\"/content/drive\", force_remount=True).\n"
          ]
        }
      ]
    },
    {
      "cell_type": "markdown",
      "source": [
        "## Create combined_df\n",
        "Combines data from 2022-2024 and concatnates into one df"
      ],
      "metadata": {
        "id": "9DTZISQc9ZwS"
      }
    },
    {
      "cell_type": "code",
      "source": [
        "import pandas as pd\n",
        "df_2024 = pd.read_csv('/content/drive/MyDrive/PA - Test 2024_PA - Test 2024.csv')\n",
        "df_2024['Year'] = '2024'\n",
        "df_2023 = pd.read_csv('/content/drive/MyDrive/PA - Test 2023_PA - Test 2023.csv')\n",
        "df_2023['Year'] = '2023'\n",
        "df_2022 = pd.read_csv('/content/drive/MyDrive/PA - Test 2022_PA - Test 2022.csv')\n",
        "df_2022['Year'] = '2022'\n",
        "combined_df = pd.concat([df_2022, df_2023, df_2024], ignore_index=True)"
      ],
      "metadata": {
        "id": "nnSps0Zd8fYA",
        "outputId": "d283c972-574a-4915-e6b5-6bb2c83e5f11",
        "colab": {
          "base_uri": "https://localhost:8080/"
        }
      },
      "execution_count": 2,
      "outputs": [
        {
          "output_type": "stream",
          "name": "stderr",
          "text": [
            "<ipython-input-2-f82f9ed7a201>:2: DtypeWarning: Columns (1,8,9,10,11,12,13,14) have mixed types. Specify dtype option on import or set low_memory=False.\n",
            "  df_2024 = pd.read_csv('/content/drive/MyDrive/PA - Test 2024_PA - Test 2024.csv')\n",
            "<ipython-input-2-f82f9ed7a201>:4: DtypeWarning: Columns (1,8,9,10,11,12,13,14,21) have mixed types. Specify dtype option on import or set low_memory=False.\n",
            "  df_2023 = pd.read_csv('/content/drive/MyDrive/PA - Test 2023_PA - Test 2023.csv')\n",
            "<ipython-input-2-f82f9ed7a201>:6: DtypeWarning: Columns (1,8,9,10,11,12,13,14) have mixed types. Specify dtype option on import or set low_memory=False.\n",
            "  df_2022 = pd.read_csv('/content/drive/MyDrive/PA - Test 2022_PA - Test 2022.csv')\n"
          ]
        }
      ]
    },
    {
      "cell_type": "code",
      "source": [
        "combined_df.columns"
      ],
      "metadata": {
        "id": "lqh8yKX58mNP",
        "outputId": "14f871a8-506d-42ef-cd86-8a2210a864db",
        "colab": {
          "base_uri": "https://localhost:8080/"
        }
      },
      "execution_count": 62,
      "outputs": [
        {
          "output_type": "execute_result",
          "data": {
            "text/plain": [
              "Index(['Address 1', 'Age', 'Beverage Type', 'Brand Full', 'City', 'Class',\n",
              "       'Class Type', 'Class Type Name', 'DISCUS Brand Family',\n",
              "       'DISCUS Common Code Name', 'DISCUS Flavor', 'DISCUS Major Category',\n",
              "       'DISCUS Minor 1', 'DISCUS Minor 2', 'DISCUS Xref', 'Imported Domestic',\n",
              "       'Month', 'Premise Indicator', 'Size', 'State Full',\n",
              "       'Store Licensee Name', 'Table Names', 'Vendor', 'Year', 'Zip',\n",
              "       'Cases 9L', 'Cases Actual', 'Cases Standard', 'Dollars Retail',\n",
              "       'Dollars Shelf', 'Proof', 'SCC', 'Units', 'UPC', 'Table Names-1'],\n",
              "      dtype='object')"
            ]
          },
          "metadata": {},
          "execution_count": 62
        }
      ]
    },
    {
      "cell_type": "code",
      "source": [
        "columns_to_keep = ['Year', \"DISCUS Brand Family\",\"DISCUS Major Category\", \"Imported Domestic\", 'Cases 9L', 'Dollars Shelf',\n",
        "                   'Address 1', 'City', 'State Full', 'Zip', 'Premise Indicator']\n"
      ],
      "metadata": {
        "id": "7s4c5vvf9QAe"
      },
      "execution_count": 5,
      "outputs": []
    },
    {
      "cell_type": "code",
      "source": [
        "df_2024.head()"
      ],
      "metadata": {
        "id": "h61uAI_p9puJ",
        "outputId": "1a08d60e-e3ff-47f7-a999-983d12472e25",
        "colab": {
          "base_uri": "https://localhost:8080/",
          "height": 498
        }
      },
      "execution_count": 39,
      "outputs": [
        {
          "output_type": "execute_result",
          "data": {
            "text/plain": [
              "                       Address 1  Age Beverage Type         Brand Full  \\\n",
              "0                 3300 LEHIGH ST  NaN         WINES  CHADDSFORD SPICED   \n",
              "1               2223 GALLOWAY RD  NaN         WINES  CHADDSFORD SPICED   \n",
              "2           35 BRIAR CREEK PLAZA  NaN         WINES  CHADDSFORD SPICED   \n",
              "3                     VILLAGE SQ  NaN         WINES  CHADDSFORD SPICED   \n",
              "4  CHARTIERS VALLEY SHOPPING CTR  NaN         WINES  CHADDSFORD SPICED   \n",
              "\n",
              "              City  Class      Class Type Class Type Name DISCUS Brand Family  \\\n",
              "0    P1, ALLENTOWN  WINES  APPLE ( 9161 )           APPLE                 NaN   \n",
              "1     P1, BENSALEM  WINES  APPLE ( 9161 )           APPLE                 NaN   \n",
              "2      P1, BERWICK  WINES  APPLE ( 9161 )           APPLE                 NaN   \n",
              "3  P1, BETHEL PARK  WINES  APPLE ( 9161 )           APPLE                 NaN   \n",
              "4  P1, BRIDGEVILLE  WINES  APPLE ( 9161 )           APPLE                 NaN   \n",
              "\n",
              "  DISCUS Common Code Name  ...      Zip Cases 9L Cases Actual Cases Standard  \\\n",
              "0                     NaN  ...  18103.0     0.17         0.17           0.17   \n",
              "1                     NaN  ...  19020.0     0.17         0.17           0.17   \n",
              "2                     NaN  ...  18603.0     0.17         0.17           0.17   \n",
              "3                     NaN  ...  15102.0     0.17         0.17           0.17   \n",
              "4                     NaN  ...  15017.0     0.17         0.17           0.17   \n",
              "\n",
              "  Dollars Retail Dollars Shelf Proof SCC Units           UPC  \n",
              "0          18.69         18.69   NaN NaN     1  9.857803e+10  \n",
              "1          18.69         18.69   NaN NaN     1  9.857803e+10  \n",
              "2          18.69         18.69   NaN NaN     1  9.857803e+10  \n",
              "3          18.69         18.69   NaN NaN     1  9.857803e+10  \n",
              "4          18.69         18.69   NaN NaN     1  9.857803e+10  \n",
              "\n",
              "[5 rows x 34 columns]"
            ],
            "text/html": [
              "\n",
              "  <div id=\"df-7b0fe6e7-69b5-435e-9642-2fd022c9da37\" class=\"colab-df-container\">\n",
              "    <div>\n",
              "<style scoped>\n",
              "    .dataframe tbody tr th:only-of-type {\n",
              "        vertical-align: middle;\n",
              "    }\n",
              "\n",
              "    .dataframe tbody tr th {\n",
              "        vertical-align: top;\n",
              "    }\n",
              "\n",
              "    .dataframe thead th {\n",
              "        text-align: right;\n",
              "    }\n",
              "</style>\n",
              "<table border=\"1\" class=\"dataframe\">\n",
              "  <thead>\n",
              "    <tr style=\"text-align: right;\">\n",
              "      <th></th>\n",
              "      <th>Address 1</th>\n",
              "      <th>Age</th>\n",
              "      <th>Beverage Type</th>\n",
              "      <th>Brand Full</th>\n",
              "      <th>City</th>\n",
              "      <th>Class</th>\n",
              "      <th>Class Type</th>\n",
              "      <th>Class Type Name</th>\n",
              "      <th>DISCUS Brand Family</th>\n",
              "      <th>DISCUS Common Code Name</th>\n",
              "      <th>...</th>\n",
              "      <th>Zip</th>\n",
              "      <th>Cases 9L</th>\n",
              "      <th>Cases Actual</th>\n",
              "      <th>Cases Standard</th>\n",
              "      <th>Dollars Retail</th>\n",
              "      <th>Dollars Shelf</th>\n",
              "      <th>Proof</th>\n",
              "      <th>SCC</th>\n",
              "      <th>Units</th>\n",
              "      <th>UPC</th>\n",
              "    </tr>\n",
              "  </thead>\n",
              "  <tbody>\n",
              "    <tr>\n",
              "      <th>0</th>\n",
              "      <td>3300 LEHIGH ST</td>\n",
              "      <td>NaN</td>\n",
              "      <td>WINES</td>\n",
              "      <td>CHADDSFORD SPICED</td>\n",
              "      <td>P1, ALLENTOWN</td>\n",
              "      <td>WINES</td>\n",
              "      <td>APPLE ( 9161 )</td>\n",
              "      <td>APPLE</td>\n",
              "      <td>NaN</td>\n",
              "      <td>NaN</td>\n",
              "      <td>...</td>\n",
              "      <td>18103.0</td>\n",
              "      <td>0.17</td>\n",
              "      <td>0.17</td>\n",
              "      <td>0.17</td>\n",
              "      <td>18.69</td>\n",
              "      <td>18.69</td>\n",
              "      <td>NaN</td>\n",
              "      <td>NaN</td>\n",
              "      <td>1</td>\n",
              "      <td>9.857803e+10</td>\n",
              "    </tr>\n",
              "    <tr>\n",
              "      <th>1</th>\n",
              "      <td>2223 GALLOWAY RD</td>\n",
              "      <td>NaN</td>\n",
              "      <td>WINES</td>\n",
              "      <td>CHADDSFORD SPICED</td>\n",
              "      <td>P1, BENSALEM</td>\n",
              "      <td>WINES</td>\n",
              "      <td>APPLE ( 9161 )</td>\n",
              "      <td>APPLE</td>\n",
              "      <td>NaN</td>\n",
              "      <td>NaN</td>\n",
              "      <td>...</td>\n",
              "      <td>19020.0</td>\n",
              "      <td>0.17</td>\n",
              "      <td>0.17</td>\n",
              "      <td>0.17</td>\n",
              "      <td>18.69</td>\n",
              "      <td>18.69</td>\n",
              "      <td>NaN</td>\n",
              "      <td>NaN</td>\n",
              "      <td>1</td>\n",
              "      <td>9.857803e+10</td>\n",
              "    </tr>\n",
              "    <tr>\n",
              "      <th>2</th>\n",
              "      <td>35 BRIAR CREEK PLAZA</td>\n",
              "      <td>NaN</td>\n",
              "      <td>WINES</td>\n",
              "      <td>CHADDSFORD SPICED</td>\n",
              "      <td>P1, BERWICK</td>\n",
              "      <td>WINES</td>\n",
              "      <td>APPLE ( 9161 )</td>\n",
              "      <td>APPLE</td>\n",
              "      <td>NaN</td>\n",
              "      <td>NaN</td>\n",
              "      <td>...</td>\n",
              "      <td>18603.0</td>\n",
              "      <td>0.17</td>\n",
              "      <td>0.17</td>\n",
              "      <td>0.17</td>\n",
              "      <td>18.69</td>\n",
              "      <td>18.69</td>\n",
              "      <td>NaN</td>\n",
              "      <td>NaN</td>\n",
              "      <td>1</td>\n",
              "      <td>9.857803e+10</td>\n",
              "    </tr>\n",
              "    <tr>\n",
              "      <th>3</th>\n",
              "      <td>VILLAGE SQ</td>\n",
              "      <td>NaN</td>\n",
              "      <td>WINES</td>\n",
              "      <td>CHADDSFORD SPICED</td>\n",
              "      <td>P1, BETHEL PARK</td>\n",
              "      <td>WINES</td>\n",
              "      <td>APPLE ( 9161 )</td>\n",
              "      <td>APPLE</td>\n",
              "      <td>NaN</td>\n",
              "      <td>NaN</td>\n",
              "      <td>...</td>\n",
              "      <td>15102.0</td>\n",
              "      <td>0.17</td>\n",
              "      <td>0.17</td>\n",
              "      <td>0.17</td>\n",
              "      <td>18.69</td>\n",
              "      <td>18.69</td>\n",
              "      <td>NaN</td>\n",
              "      <td>NaN</td>\n",
              "      <td>1</td>\n",
              "      <td>9.857803e+10</td>\n",
              "    </tr>\n",
              "    <tr>\n",
              "      <th>4</th>\n",
              "      <td>CHARTIERS VALLEY SHOPPING CTR</td>\n",
              "      <td>NaN</td>\n",
              "      <td>WINES</td>\n",
              "      <td>CHADDSFORD SPICED</td>\n",
              "      <td>P1, BRIDGEVILLE</td>\n",
              "      <td>WINES</td>\n",
              "      <td>APPLE ( 9161 )</td>\n",
              "      <td>APPLE</td>\n",
              "      <td>NaN</td>\n",
              "      <td>NaN</td>\n",
              "      <td>...</td>\n",
              "      <td>15017.0</td>\n",
              "      <td>0.17</td>\n",
              "      <td>0.17</td>\n",
              "      <td>0.17</td>\n",
              "      <td>18.69</td>\n",
              "      <td>18.69</td>\n",
              "      <td>NaN</td>\n",
              "      <td>NaN</td>\n",
              "      <td>1</td>\n",
              "      <td>9.857803e+10</td>\n",
              "    </tr>\n",
              "  </tbody>\n",
              "</table>\n",
              "<p>5 rows × 34 columns</p>\n",
              "</div>\n",
              "    <div class=\"colab-df-buttons\">\n",
              "\n",
              "  <div class=\"colab-df-container\">\n",
              "    <button class=\"colab-df-convert\" onclick=\"convertToInteractive('df-7b0fe6e7-69b5-435e-9642-2fd022c9da37')\"\n",
              "            title=\"Convert this dataframe to an interactive table.\"\n",
              "            style=\"display:none;\">\n",
              "\n",
              "  <svg xmlns=\"http://www.w3.org/2000/svg\" height=\"24px\" viewBox=\"0 -960 960 960\">\n",
              "    <path d=\"M120-120v-720h720v720H120Zm60-500h600v-160H180v160Zm220 220h160v-160H400v160Zm0 220h160v-160H400v160ZM180-400h160v-160H180v160Zm440 0h160v-160H620v160ZM180-180h160v-160H180v160Zm440 0h160v-160H620v160Z\"/>\n",
              "  </svg>\n",
              "    </button>\n",
              "\n",
              "  <style>\n",
              "    .colab-df-container {\n",
              "      display:flex;\n",
              "      gap: 12px;\n",
              "    }\n",
              "\n",
              "    .colab-df-convert {\n",
              "      background-color: #E8F0FE;\n",
              "      border: none;\n",
              "      border-radius: 50%;\n",
              "      cursor: pointer;\n",
              "      display: none;\n",
              "      fill: #1967D2;\n",
              "      height: 32px;\n",
              "      padding: 0 0 0 0;\n",
              "      width: 32px;\n",
              "    }\n",
              "\n",
              "    .colab-df-convert:hover {\n",
              "      background-color: #E2EBFA;\n",
              "      box-shadow: 0px 1px 2px rgba(60, 64, 67, 0.3), 0px 1px 3px 1px rgba(60, 64, 67, 0.15);\n",
              "      fill: #174EA6;\n",
              "    }\n",
              "\n",
              "    .colab-df-buttons div {\n",
              "      margin-bottom: 4px;\n",
              "    }\n",
              "\n",
              "    [theme=dark] .colab-df-convert {\n",
              "      background-color: #3B4455;\n",
              "      fill: #D2E3FC;\n",
              "    }\n",
              "\n",
              "    [theme=dark] .colab-df-convert:hover {\n",
              "      background-color: #434B5C;\n",
              "      box-shadow: 0px 1px 3px 1px rgba(0, 0, 0, 0.15);\n",
              "      filter: drop-shadow(0px 1px 2px rgba(0, 0, 0, 0.3));\n",
              "      fill: #FFFFFF;\n",
              "    }\n",
              "  </style>\n",
              "\n",
              "    <script>\n",
              "      const buttonEl =\n",
              "        document.querySelector('#df-7b0fe6e7-69b5-435e-9642-2fd022c9da37 button.colab-df-convert');\n",
              "      buttonEl.style.display =\n",
              "        google.colab.kernel.accessAllowed ? 'block' : 'none';\n",
              "\n",
              "      async function convertToInteractive(key) {\n",
              "        const element = document.querySelector('#df-7b0fe6e7-69b5-435e-9642-2fd022c9da37');\n",
              "        const dataTable =\n",
              "          await google.colab.kernel.invokeFunction('convertToInteractive',\n",
              "                                                    [key], {});\n",
              "        if (!dataTable) return;\n",
              "\n",
              "        const docLinkHtml = 'Like what you see? Visit the ' +\n",
              "          '<a target=\"_blank\" href=https://colab.research.google.com/notebooks/data_table.ipynb>data table notebook</a>'\n",
              "          + ' to learn more about interactive tables.';\n",
              "        element.innerHTML = '';\n",
              "        dataTable['output_type'] = 'display_data';\n",
              "        await google.colab.output.renderOutput(dataTable, element);\n",
              "        const docLink = document.createElement('div');\n",
              "        docLink.innerHTML = docLinkHtml;\n",
              "        element.appendChild(docLink);\n",
              "      }\n",
              "    </script>\n",
              "  </div>\n",
              "\n",
              "\n",
              "<div id=\"df-9eeeab9e-eeed-4cab-8856-54a3718ef4ed\">\n",
              "  <button class=\"colab-df-quickchart\" onclick=\"quickchart('df-9eeeab9e-eeed-4cab-8856-54a3718ef4ed')\"\n",
              "            title=\"Suggest charts\"\n",
              "            style=\"display:none;\">\n",
              "\n",
              "<svg xmlns=\"http://www.w3.org/2000/svg\" height=\"24px\"viewBox=\"0 0 24 24\"\n",
              "     width=\"24px\">\n",
              "    <g>\n",
              "        <path d=\"M19 3H5c-1.1 0-2 .9-2 2v14c0 1.1.9 2 2 2h14c1.1 0 2-.9 2-2V5c0-1.1-.9-2-2-2zM9 17H7v-7h2v7zm4 0h-2V7h2v10zm4 0h-2v-4h2v4z\"/>\n",
              "    </g>\n",
              "</svg>\n",
              "  </button>\n",
              "\n",
              "<style>\n",
              "  .colab-df-quickchart {\n",
              "      --bg-color: #E8F0FE;\n",
              "      --fill-color: #1967D2;\n",
              "      --hover-bg-color: #E2EBFA;\n",
              "      --hover-fill-color: #174EA6;\n",
              "      --disabled-fill-color: #AAA;\n",
              "      --disabled-bg-color: #DDD;\n",
              "  }\n",
              "\n",
              "  [theme=dark] .colab-df-quickchart {\n",
              "      --bg-color: #3B4455;\n",
              "      --fill-color: #D2E3FC;\n",
              "      --hover-bg-color: #434B5C;\n",
              "      --hover-fill-color: #FFFFFF;\n",
              "      --disabled-bg-color: #3B4455;\n",
              "      --disabled-fill-color: #666;\n",
              "  }\n",
              "\n",
              "  .colab-df-quickchart {\n",
              "    background-color: var(--bg-color);\n",
              "    border: none;\n",
              "    border-radius: 50%;\n",
              "    cursor: pointer;\n",
              "    display: none;\n",
              "    fill: var(--fill-color);\n",
              "    height: 32px;\n",
              "    padding: 0;\n",
              "    width: 32px;\n",
              "  }\n",
              "\n",
              "  .colab-df-quickchart:hover {\n",
              "    background-color: var(--hover-bg-color);\n",
              "    box-shadow: 0 1px 2px rgba(60, 64, 67, 0.3), 0 1px 3px 1px rgba(60, 64, 67, 0.15);\n",
              "    fill: var(--button-hover-fill-color);\n",
              "  }\n",
              "\n",
              "  .colab-df-quickchart-complete:disabled,\n",
              "  .colab-df-quickchart-complete:disabled:hover {\n",
              "    background-color: var(--disabled-bg-color);\n",
              "    fill: var(--disabled-fill-color);\n",
              "    box-shadow: none;\n",
              "  }\n",
              "\n",
              "  .colab-df-spinner {\n",
              "    border: 2px solid var(--fill-color);\n",
              "    border-color: transparent;\n",
              "    border-bottom-color: var(--fill-color);\n",
              "    animation:\n",
              "      spin 1s steps(1) infinite;\n",
              "  }\n",
              "\n",
              "  @keyframes spin {\n",
              "    0% {\n",
              "      border-color: transparent;\n",
              "      border-bottom-color: var(--fill-color);\n",
              "      border-left-color: var(--fill-color);\n",
              "    }\n",
              "    20% {\n",
              "      border-color: transparent;\n",
              "      border-left-color: var(--fill-color);\n",
              "      border-top-color: var(--fill-color);\n",
              "    }\n",
              "    30% {\n",
              "      border-color: transparent;\n",
              "      border-left-color: var(--fill-color);\n",
              "      border-top-color: var(--fill-color);\n",
              "      border-right-color: var(--fill-color);\n",
              "    }\n",
              "    40% {\n",
              "      border-color: transparent;\n",
              "      border-right-color: var(--fill-color);\n",
              "      border-top-color: var(--fill-color);\n",
              "    }\n",
              "    60% {\n",
              "      border-color: transparent;\n",
              "      border-right-color: var(--fill-color);\n",
              "    }\n",
              "    80% {\n",
              "      border-color: transparent;\n",
              "      border-right-color: var(--fill-color);\n",
              "      border-bottom-color: var(--fill-color);\n",
              "    }\n",
              "    90% {\n",
              "      border-color: transparent;\n",
              "      border-bottom-color: var(--fill-color);\n",
              "    }\n",
              "  }\n",
              "</style>\n",
              "\n",
              "  <script>\n",
              "    async function quickchart(key) {\n",
              "      const quickchartButtonEl =\n",
              "        document.querySelector('#' + key + ' button');\n",
              "      quickchartButtonEl.disabled = true;  // To prevent multiple clicks.\n",
              "      quickchartButtonEl.classList.add('colab-df-spinner');\n",
              "      try {\n",
              "        const charts = await google.colab.kernel.invokeFunction(\n",
              "            'suggestCharts', [key], {});\n",
              "      } catch (error) {\n",
              "        console.error('Error during call to suggestCharts:', error);\n",
              "      }\n",
              "      quickchartButtonEl.classList.remove('colab-df-spinner');\n",
              "      quickchartButtonEl.classList.add('colab-df-quickchart-complete');\n",
              "    }\n",
              "    (() => {\n",
              "      let quickchartButtonEl =\n",
              "        document.querySelector('#df-9eeeab9e-eeed-4cab-8856-54a3718ef4ed button');\n",
              "      quickchartButtonEl.style.display =\n",
              "        google.colab.kernel.accessAllowed ? 'block' : 'none';\n",
              "    })();\n",
              "  </script>\n",
              "</div>\n",
              "\n",
              "    </div>\n",
              "  </div>\n"
            ],
            "application/vnd.google.colaboratory.intrinsic+json": {
              "type": "dataframe",
              "variable_name": "df_2024"
            }
          },
          "metadata": {},
          "execution_count": 39
        }
      ]
    },
    {
      "cell_type": "markdown",
      "source": [
        "## Subset on Proximo Spirit Vendor Brands"
      ],
      "metadata": {
        "id": "hZ7MEUAT9hDK"
      }
    },
    {
      "cell_type": "code",
      "source": [
        "proximo_vendor = combined_df[combined_df['Vendor'] == 'PROXIMO SPIRITS  ( 6108 )']\n",
        "len(proximo_vendor)\n",
        "#columns_to_keep = ['Year', 'Age', 'Brand Full', 'Class', \"DISCUS Brand Family\",\"DISCUS Major Category\", \"DISCUS Minor 1\", \"DISCUS Minor 2\", \"Imported Domestic\",\n",
        "#                   'Cases 9L', 'Dollars Shelf', 'Store Licensee Name']\n",
        "subset_df = proximo_vendor[columns_to_keep]\n",
        "dim = subset_df.shape\n",
        "print(dim[0])\n",
        "print(dim[1])"
      ],
      "metadata": {
        "id": "x-6CVHkF-ZSz",
        "outputId": "77a6d1ab-5486-4ded-a080-db779bb6f25a",
        "colab": {
          "base_uri": "https://localhost:8080/"
        }
      },
      "execution_count": 6,
      "outputs": [
        {
          "output_type": "stream",
          "name": "stdout",
          "text": [
            "860188\n",
            "11\n"
          ]
        }
      ]
    },
    {
      "cell_type": "markdown",
      "source": [
        "## ALL VENDORS ON CERTAIN CATEGORIES"
      ],
      "metadata": {
        "id": "mNe6ozfIHNXQ"
      }
    },
    {
      "cell_type": "code",
      "source": [
        "dim = combined_df.shape\n",
        "print(dim[0])\n",
        "print(dim[1])"
      ],
      "metadata": {
        "id": "WAx0VC3fZ05r",
        "outputId": "d225538e-0ca7-4613-f1b3-ebbbfeecdc7b",
        "colab": {
          "base_uri": "https://localhost:8080/"
        }
      },
      "execution_count": 40,
      "outputs": [
        {
          "output_type": "stream",
          "name": "stdout",
          "text": [
            "35710010\n",
            "35\n"
          ]
        }
      ]
    },
    {
      "cell_type": "code",
      "source": [
        "spirits = combined_df[combined_df['Beverage Type'] == 'SPIRITS']\n",
        "dim = spirits.shape\n",
        "print(dim[0])\n",
        "print(dim[1])"
      ],
      "metadata": {
        "id": "S2eBI-XwZI9r",
        "outputId": "143b6424-4fb1-418a-fa19-ef2e4baa29c0",
        "colab": {
          "base_uri": "https://localhost:8080/"
        }
      },
      "execution_count": 42,
      "outputs": [
        {
          "output_type": "stream",
          "name": "stdout",
          "text": [
            "19231600\n",
            "35\n"
          ]
        }
      ]
    },
    {
      "cell_type": "code",
      "source": [
        "proximo_class = proximo_vendor['DISCUS Major Category'].unique()\n",
        "print(proximo_class)"
      ],
      "metadata": {
        "id": "lN41PwglojAH",
        "outputId": "b080aad0-a807-49ab-db1c-1516ec0788f9",
        "colab": {
          "base_uri": "https://localhost:8080/"
        }
      },
      "execution_count": 43,
      "outputs": [
        {
          "output_type": "stream",
          "name": "stdout",
          "text": [
            "['COCKTAILS' 'VODKA' 'TEQUILA' 'IRISH' 'RUM' 'DOMESTIC WHISKEY' 'CANADIAN'\n",
            " 'GIN']\n"
          ]
        }
      ]
    },
    {
      "cell_type": "code",
      "source": [
        "#categories = ['COCKTAILS', 'VODKA', 'TEQUILA', 'IRISH', 'RUM', 'DOMESTIC WHISKEY', 'CANADIAN', 'GIN']\n",
        "columns_to_keep = ['Year', 'Class', \"DISCUS Brand Family\",\"DISCUS Major Category\", \"DISCUS Minor 2\",\n",
        "                   'Cases 9L', 'Dollars Shelf', 'Store Licensee Name', 'Vendor', 'Zip', 'Premise Indicator']\n",
        "spirit = combined_df[combined_df['DISCUS Major Category'].isin(proximo_class)]\n",
        "spirit = spirit[columns_to_keep]\n",
        "dim = spirit.shape\n",
        "print(dim[0])\n",
        "print(dim[1])"
      ],
      "metadata": {
        "id": "zgNUTrnX-fw-",
        "outputId": "4cb8b341-a5ba-4051-dc70-ce381f1ff247",
        "colab": {
          "base_uri": "https://localhost:8080/"
        }
      },
      "execution_count": 44,
      "outputs": [
        {
          "output_type": "stream",
          "name": "stdout",
          "text": [
            "14706665\n",
            "11\n"
          ]
        }
      ]
    },
    {
      "cell_type": "code",
      "source": [
        "spirit[''].unique()"
      ],
      "metadata": {
        "id": "pB4RoEvGHZfe",
        "outputId": "2d8079bb-6ee3-4a08-b4d5-e468113b8853",
        "colab": {
          "base_uri": "https://localhost:8080/"
        }
      },
      "execution_count": 32,
      "outputs": [
        {
          "output_type": "execute_result",
          "data": {
            "text/plain": [
              "array(['COCKTAILS', 'VODKA', 'CORDIALS', 'WHISKEY', 'TEQUILA', 'GIN',\n",
              "       'RUM'], dtype=object)"
            ]
          },
          "metadata": {},
          "execution_count": 32
        }
      ]
    },
    {
      "cell_type": "code",
      "source": [
        "spirit.to_csv(\"spirits_v2.csv\")"
      ],
      "metadata": {
        "id": "JyOTOkVwHPZn"
      },
      "execution_count": 31,
      "outputs": []
    },
    {
      "cell_type": "code",
      "source": [
        "combined_df.columns"
      ],
      "metadata": {
        "id": "Jw09K-eS6bvW",
        "outputId": "37dd2490-123c-4759-96f8-f54d3246bdfe",
        "colab": {
          "base_uri": "https://localhost:8080/"
        }
      },
      "execution_count": 33,
      "outputs": [
        {
          "output_type": "execute_result",
          "data": {
            "text/plain": [
              "Index(['Address 1', 'Age', 'Beverage Type', 'Brand Full', 'City', 'Class',\n",
              "       'Class Type', 'Class Type Name', 'DISCUS Brand Family',\n",
              "       'DISCUS Common Code Name', 'DISCUS Flavor', 'DISCUS Major Category',\n",
              "       'DISCUS Minor 1', 'DISCUS Minor 2', 'DISCUS Xref', 'Imported Domestic',\n",
              "       'Month', 'Premise Indicator', 'Size', 'State Full',\n",
              "       'Store Licensee Name', 'Table Names', 'Vendor', 'Year', 'Zip',\n",
              "       'Cases 9L', 'Cases Actual', 'Cases Standard', 'Dollars Retail',\n",
              "       'Dollars Shelf', 'Proof', 'SCC', 'Units', 'UPC', 'Table Names-1'],\n",
              "      dtype='object')"
            ]
          },
          "metadata": {},
          "execution_count": 33
        }
      ]
    },
    {
      "cell_type": "code",
      "source": [
        "combined_df['Beverage Type'].unique()"
      ],
      "metadata": {
        "id": "8vgt9ZiLYxNh",
        "outputId": "63d2410c-fad7-4f8c-be53-819f471dc6fc",
        "colab": {
          "base_uri": "https://localhost:8080/"
        }
      },
      "execution_count": 35,
      "outputs": [
        {
          "output_type": "execute_result",
          "data": {
            "text/plain": [
              "array(['WINES', 'SPIRITS', 'Totals'], dtype=object)"
            ]
          },
          "metadata": {},
          "execution_count": 35
        }
      ]
    }
  ]
}