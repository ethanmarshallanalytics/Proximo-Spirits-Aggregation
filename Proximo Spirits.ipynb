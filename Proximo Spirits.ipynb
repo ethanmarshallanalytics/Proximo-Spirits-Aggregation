{
  "nbformat": 4,
  "nbformat_minor": 0,
  "metadata": {
    "colab": {
      "provenance": [],
      "gpuType": "T4",
      "machine_shape": "hm",
      "authorship_tag": "ABX9TyNxGTe6jZnOnQwTrpsyisIF",
      "include_colab_link": true
    },
    "kernelspec": {
      "name": "python3",
      "display_name": "Python 3"
    },
    "language_info": {
      "name": "python"
    },
    "accelerator": "GPU"
  },
  "cells": [
    {
      "cell_type": "markdown",
      "metadata": {
        "id": "view-in-github",
        "colab_type": "text"
      },
      "source": [
        "<a href=\"https://colab.research.google.com/github/ethanmarshallanalytics/Proximo-Spirits-Aggregation/blob/main/Proximo%20Spirits.ipynb\" target=\"_parent\"><img src=\"https://colab.research.google.com/assets/colab-badge.svg\" alt=\"Open In Colab\"/></a>"
      ]
    },
    {
      "cell_type": "code",
      "source": [
        "from google.colab import drive\n",
        "drive.mount('/content/drive')"
      ],
      "metadata": {
        "id": "j_HQaWyBYqdA",
        "outputId": "4da884de-3456-4158-ffd6-44b6c22aecd6",
        "colab": {
          "base_uri": "https://localhost:8080/"
        }
      },
      "execution_count": 1,
      "outputs": [
        {
          "output_type": "stream",
          "name": "stdout",
          "text": [
            "Mounted at /content/drive\n"
          ]
        }
      ]
    },
    {
      "cell_type": "code",
      "source": [
        "import pandas as pd\n",
        "df_2024 = pd.read_csv('/content/drive/MyDrive/PA - Test 2024_PA - Test 2024.csv')"
      ],
      "metadata": {
        "id": "kwYLMkyGgFEQ",
        "outputId": "a83adb30-da29-4a1c-f6c3-4b8c16119bee",
        "colab": {
          "base_uri": "https://localhost:8080/"
        }
      },
      "execution_count": 2,
      "outputs": [
        {
          "output_type": "stream",
          "name": "stderr",
          "text": [
            "<ipython-input-2-69df482335e0>:2: DtypeWarning: Columns (1,8,9,10,11,12,13,14) have mixed types. Specify dtype option on import or set low_memory=False.\n",
            "  df_2024 = pd.read_csv('/content/drive/MyDrive/PA - Test 2024_PA - Test 2024.csv')\n"
          ]
        }
      ]
    },
    {
      "cell_type": "code",
      "source": [
        "df_2023 = pd.read_csv('/content/drive/MyDrive/PA - Test 2023_PA - Test 2023.csv')\n"
      ],
      "metadata": {
        "id": "hIwgFR64gWsA",
        "outputId": "5abd0258-c312-4b3d-b169-801837657609",
        "colab": {
          "base_uri": "https://localhost:8080/"
        }
      },
      "execution_count": 3,
      "outputs": [
        {
          "output_type": "stream",
          "name": "stderr",
          "text": [
            "<ipython-input-3-dad516e98607>:1: DtypeWarning: Columns (1,8,9,10,11,12,13,14,21) have mixed types. Specify dtype option on import or set low_memory=False.\n",
            "  df_2023 = pd.read_csv('/content/drive/MyDrive/PA - Test 2023_PA - Test 2023.csv')\n"
          ]
        }
      ]
    },
    {
      "cell_type": "code",
      "source": [
        "df_2022 = pd.read_csv('/content/drive/MyDrive/PA - Test 2022_PA - Test 2022.csv')"
      ],
      "metadata": {
        "id": "OVUHahWejZl6",
        "outputId": "69d58744-cc56-4e72-a2ca-2eb1b6c0d7e4",
        "colab": {
          "base_uri": "https://localhost:8080/"
        }
      },
      "execution_count": 4,
      "outputs": [
        {
          "output_type": "stream",
          "name": "stderr",
          "text": [
            "<ipython-input-4-24cf255a5615>:1: DtypeWarning: Columns (1,8,9,10,11,12,13,14) have mixed types. Specify dtype option on import or set low_memory=False.\n",
            "  df_2022 = pd.read_csv('/content/drive/MyDrive/PA - Test 2022_PA - Test 2022.csv')\n"
          ]
        }
      ]
    },
    {
      "cell_type": "code",
      "source": [
        "df_2022.columns"
      ],
      "metadata": {
        "id": "5TltsU-4qQPJ",
        "outputId": "28c2b146-b9e2-4275-ef47-274c8f056004",
        "colab": {
          "base_uri": "https://localhost:8080/"
        }
      },
      "execution_count": 6,
      "outputs": [
        {
          "output_type": "execute_result",
          "data": {
            "text/plain": [
              "Index(['Address 1', 'Age', 'Beverage Type', 'Brand Full', 'City', 'Class',\n",
              "       'Class Type', 'Class Type Name', 'DISCUS Brand Family',\n",
              "       'DISCUS Common Code Name', 'DISCUS Flavor', 'DISCUS Major Category',\n",
              "       'DISCUS Minor 1', 'DISCUS Minor 2', 'DISCUS Xref', 'Imported Domestic',\n",
              "       'Month', 'Premise Indicator', 'Size', 'State Full',\n",
              "       'Store Licensee Name', 'Table Names', 'Vendor', 'Year', 'Zip',\n",
              "       'Cases 9L', 'Cases Actual', 'Cases Standard', 'Dollars Retail',\n",
              "       'Dollars Shelf', 'Proof', 'SCC', 'Units', 'UPC'],\n",
              "      dtype='object')"
            ]
          },
          "metadata": {},
          "execution_count": 6
        }
      ]
    },
    {
      "cell_type": "code",
      "source": [
        "unique_brands_list = df_2024['DISCUS Brand Family'].unique().tolist()\n",
        "print(unique_brands_list)"
      ],
      "metadata": {
        "id": "EinI0-V1r10B",
        "outputId": "2e36218e-1944-4271-c917-149606904e24",
        "colab": {
          "base_uri": "https://localhost:8080/",
          "height": 165
        }
      },
      "execution_count": 3,
      "outputs": [
        {
          "output_type": "error",
          "ename": "NameError",
          "evalue": "name 'df_2024' is not defined",
          "traceback": [
            "\u001b[0;31m---------------------------------------------------------------------------\u001b[0m",
            "\u001b[0;31mNameError\u001b[0m                                 Traceback (most recent call last)",
            "\u001b[0;32m<ipython-input-3-004480ee8579>\u001b[0m in \u001b[0;36m<cell line: 1>\u001b[0;34m()\u001b[0m\n\u001b[0;32m----> 1\u001b[0;31m \u001b[0munique_brands_list\u001b[0m \u001b[0;34m=\u001b[0m \u001b[0mdf_2024\u001b[0m\u001b[0;34m[\u001b[0m\u001b[0;34m'DISCUS Brand Family'\u001b[0m\u001b[0;34m]\u001b[0m\u001b[0;34m.\u001b[0m\u001b[0munique\u001b[0m\u001b[0;34m(\u001b[0m\u001b[0;34m)\u001b[0m\u001b[0;34m.\u001b[0m\u001b[0mtolist\u001b[0m\u001b[0;34m(\u001b[0m\u001b[0;34m)\u001b[0m\u001b[0;34m\u001b[0m\u001b[0;34m\u001b[0m\u001b[0m\n\u001b[0m\u001b[1;32m      2\u001b[0m \u001b[0mprint\u001b[0m\u001b[0;34m(\u001b[0m\u001b[0munique_brands_list\u001b[0m\u001b[0;34m)\u001b[0m\u001b[0;34m\u001b[0m\u001b[0;34m\u001b[0m\u001b[0m\n",
            "\u001b[0;31mNameError\u001b[0m: name 'df_2024' is not defined"
          ]
        }
      ]
    },
    {
      "cell_type": "markdown",
      "source": [
        "## Merging Datasets"
      ],
      "metadata": {
        "id": "KoQoLXQTplbw"
      }
    },
    {
      "cell_type": "code",
      "source": [
        "df_2324 = pd.merge(df_2024, df_2023, on = ['Brand Full', 'Brand Full'], how = 'inner')"
      ],
      "metadata": {
        "id": "ag67hjDHpkwU",
        "outputId": "69cfaf51-3765-4ac6-a479-fb69b485dc64",
        "colab": {
          "base_uri": "https://localhost:8080/",
          "height": 146
        }
      },
      "execution_count": 1,
      "outputs": [
        {
          "output_type": "error",
          "ename": "NameError",
          "evalue": "name 'pd' is not defined",
          "traceback": [
            "\u001b[0;31m---------------------------------------------------------------------------\u001b[0m",
            "\u001b[0;31mNameError\u001b[0m                                 Traceback (most recent call last)",
            "\u001b[0;32m<ipython-input-1-a5346fc2b220>\u001b[0m in \u001b[0;36m<cell line: 1>\u001b[0;34m()\u001b[0m\n\u001b[0;32m----> 1\u001b[0;31m \u001b[0mdf_2324\u001b[0m \u001b[0;34m=\u001b[0m \u001b[0mpd\u001b[0m\u001b[0;34m.\u001b[0m\u001b[0mmerge\u001b[0m\u001b[0;34m(\u001b[0m\u001b[0mdf_2024\u001b[0m\u001b[0;34m,\u001b[0m \u001b[0mdf_2023\u001b[0m\u001b[0;34m,\u001b[0m \u001b[0mon\u001b[0m \u001b[0;34m=\u001b[0m \u001b[0;34m[\u001b[0m\u001b[0;34m'Brand Full'\u001b[0m\u001b[0;34m,\u001b[0m \u001b[0;34m'Brand Full'\u001b[0m\u001b[0;34m]\u001b[0m\u001b[0;34m,\u001b[0m \u001b[0mhow\u001b[0m \u001b[0;34m=\u001b[0m \u001b[0;34m'inner'\u001b[0m\u001b[0;34m)\u001b[0m\u001b[0;34m\u001b[0m\u001b[0;34m\u001b[0m\u001b[0m\n\u001b[0m",
            "\u001b[0;31mNameError\u001b[0m: name 'pd' is not defined"
          ]
        }
      ]
    }
  ]
}