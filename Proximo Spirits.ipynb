{
  "nbformat": 4,
  "nbformat_minor": 0,
  "metadata": {
    "colab": {
      "provenance": [],
      "gpuType": "T4",
      "authorship_tag": "ABX9TyO6xUK55M+N6Ra4VxFyYvCO",
      "include_colab_link": true
    },
    "kernelspec": {
      "name": "python3",
      "display_name": "Python 3"
    },
    "language_info": {
      "name": "python"
    },
    "accelerator": "GPU"
  },
  "cells": [
    {
      "cell_type": "markdown",
      "metadata": {
        "id": "view-in-github",
        "colab_type": "text"
      },
      "source": [
        "<a href=\"https://colab.research.google.com/github/ethanmarshallanalytics/Proximo-Spirits-Aggregation/blob/main/Proximo%20Spirits.ipynb\" target=\"_parent\"><img src=\"https://colab.research.google.com/assets/colab-badge.svg\" alt=\"Open In Colab\"/></a>"
      ]
    },
    {
      "cell_type": "code",
      "execution_count": 2,
      "metadata": {
        "id": "9MrxLl5qJ9rH",
        "outputId": "39f993ba-c2fa-4320-ecae-9766ec1c0ae2",
        "colab": {
          "base_uri": "https://localhost:8080/",
          "height": 110
        }
      },
      "outputs": [
        {
          "output_type": "error",
          "ename": "SyntaxError",
          "evalue": "(unicode error) 'unicodeescape' codec can't decode bytes in position 2-3: truncated \\UXXXXXXXX escape (<ipython-input-2-eab45b65d519>, line 2)",
          "traceback": [
            "\u001b[0;36m  File \u001b[0;32m\"<ipython-input-2-eab45b65d519>\"\u001b[0;36m, line \u001b[0;32m2\u001b[0m\n\u001b[0;31m    df_2024 = pd.read_csv(\"C:\\Users\\ethan\\OneDrive\\Desktop\\Proximo Spirits\\PA - Test 2024_PA - Test 2024.csv\")\u001b[0m\n\u001b[0m                                                                                                             ^\u001b[0m\n\u001b[0;31mSyntaxError\u001b[0m\u001b[0;31m:\u001b[0m (unicode error) 'unicodeescape' codec can't decode bytes in position 2-3: truncated \\UXXXXXXXX escape\n"
          ]
        }
      ],
      "source": []
    },
    {
      "cell_type": "code",
      "source": [
        "from google.colab import drive\n",
        "drive.mount('/content/drive')\n",
        "\n",
        "\n"
      ],
      "metadata": {
        "id": "j_HQaWyBYqdA",
        "outputId": "23586e95-38dd-4e89-b55b-9c699a50ff3b",
        "colab": {
          "base_uri": "https://localhost:8080/"
        }
      },
      "execution_count": 2,
      "outputs": [
        {
          "output_type": "stream",
          "name": "stdout",
          "text": [
            "Mounted at /content/drive\n"
          ]
        }
      ]
    },
    {
      "cell_type": "code",
      "source": [
        "import pandas as pd\n",
        "df_2024 = pd.read_csv('/content/drive/MyDrive/PA - Test 2024_PA - Test 2024.csv')\n"
      ],
      "metadata": {
        "id": "kwYLMkyGgFEQ",
        "outputId": "214067b7-d62f-4503-c451-cbacd07e3406",
        "colab": {
          "base_uri": "https://localhost:8080/"
        }
      },
      "execution_count": 3,
      "outputs": [
        {
          "output_type": "stream",
          "name": "stderr",
          "text": [
            "<ipython-input-3-69df482335e0>:2: DtypeWarning: Columns (1,8,9,10,11,12,13,14) have mixed types. Specify dtype option on import or set low_memory=False.\n",
            "  df_2024 = pd.read_csv('/content/drive/MyDrive/PA - Test 2024_PA - Test 2024.csv')\n"
          ]
        }
      ]
    },
    {
      "cell_type": "code",
      "source": [
        "df_2023 = pd.read_csv('/content/drive/MyDrive/PA - Test 2023_PA - Test 2023.csv')\n"
      ],
      "metadata": {
        "id": "hIwgFR64gWsA"
      },
      "execution_count": null,
      "outputs": []
    },
    {
      "cell_type": "code",
      "source": [
        "df_2022 = pd.read_csv('/content/drive/MyDrive/PA - Test 2022_PA - Test 2022.csv')"
      ],
      "metadata": {
        "id": "OVUHahWejZl6"
      },
      "execution_count": null,
      "outputs": []
    }
  ]
}