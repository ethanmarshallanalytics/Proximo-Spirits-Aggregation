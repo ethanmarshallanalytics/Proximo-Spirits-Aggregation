{
  "nbformat": 4,
  "nbformat_minor": 0,
  "metadata": {
    "colab": {
      "provenance": [],
      "gpuType": "T4",
      "machine_shape": "hm",
      "authorship_tag": "ABX9TyNk/PM0pGT+KzwYb95aAp43",
      "include_colab_link": true
    },
    "kernelspec": {
      "name": "python3",
      "display_name": "Python 3"
    },
    "language_info": {
      "name": "python"
    },
    "accelerator": "GPU"
  },
  "cells": [
    {
      "cell_type": "markdown",
      "metadata": {
        "id": "view-in-github",
        "colab_type": "text"
      },
      "source": [
        "<a href=\"https://colab.research.google.com/github/ethanmarshallanalytics/Proximo-Spirits-Aggregation/blob/main/Proximo%20Spirits.ipynb\" target=\"_parent\"><img src=\"https://colab.research.google.com/assets/colab-badge.svg\" alt=\"Open In Colab\"/></a>"
      ]
    },
    {
      "cell_type": "code",
      "source": [
        "from google.colab import drive\n",
        "drive.mount('/content/drive')"
      ],
      "metadata": {
        "id": "j_HQaWyBYqdA",
        "outputId": "27d1a076-57b3-41e6-a4ce-656f6e2b2c0d",
        "colab": {
          "base_uri": "https://localhost:8080/"
        }
      },
      "execution_count": 5,
      "outputs": [
        {
          "output_type": "stream",
          "name": "stdout",
          "text": [
            "Drive already mounted at /content/drive; to attempt to forcibly remount, call drive.mount(\"/content/drive\", force_remount=True).\n"
          ]
        }
      ]
    },
    {
      "cell_type": "code",
      "source": [
        "import pandas as pd\n",
        "df_2024 = pd.read_csv('/content/drive/MyDrive/PA - Test 2024_PA - Test 2024.csv')\n",
        "df_2024['Year'] = 2024"
      ],
      "metadata": {
        "id": "kwYLMkyGgFEQ",
        "outputId": "471be2bd-2423-435d-f0dc-0207e256dff4",
        "colab": {
          "base_uri": "https://localhost:8080/"
        }
      },
      "execution_count": 14,
      "outputs": [
        {
          "output_type": "stream",
          "name": "stderr",
          "text": [
            "<ipython-input-14-d94b2c474572>:2: DtypeWarning: Columns (1,8,9,10,11,12,13,14) have mixed types. Specify dtype option on import or set low_memory=False.\n",
            "  df_2024 = pd.read_csv('/content/drive/MyDrive/PA - Test 2024_PA - Test 2024.csv')\n"
          ]
        }
      ]
    },
    {
      "cell_type": "code",
      "source": [
        "columns_to_analyze = ['Year', 'Brand Full', 'Class', 'DISCUS Minor 1', 'DISCUS Minor 2', 'Imported Domestic',\n",
        "                      'Cases 9L', 'Dollars Shelf', 'Vendor']\n",
        "\n",
        "df_2024 = df_2024[columns_to_analyze]\n",
        "df_2024 = df_2024[df_2024['Vendor'].isin(['PROXIMO SPIRITS  ( 6108 )'])]\n",
        "len(df_2024)"
      ],
      "metadata": {
        "id": "8lTCsbU6yiOi",
        "outputId": "b0783bf4-b4b0-4b9a-b219-27f721fbc90a",
        "colab": {
          "base_uri": "https://localhost:8080/"
        }
      },
      "execution_count": 7,
      "outputs": [
        {
          "output_type": "execute_result",
          "data": {
            "text/plain": [
              "137014"
            ]
          },
          "metadata": {},
          "execution_count": 7
        }
      ]
    },
    {
      "cell_type": "code",
      "source": [
        "df_2023 = pd.read_csv('/content/drive/MyDrive/PA - Test 2023_PA - Test 2023.csv')\n",
        "df_2023['Year'] = 2023"
      ],
      "metadata": {
        "id": "hIwgFR64gWsA",
        "outputId": "d52e25bd-1707-4d8b-9c5e-f8311f663c40",
        "colab": {
          "base_uri": "https://localhost:8080/"
        }
      },
      "execution_count": 15,
      "outputs": [
        {
          "output_type": "stream",
          "name": "stderr",
          "text": [
            "<ipython-input-15-a09d450c308e>:1: DtypeWarning: Columns (1,8,9,10,11,12,13,14,21) have mixed types. Specify dtype option on import or set low_memory=False.\n",
            "  df_2023 = pd.read_csv('/content/drive/MyDrive/PA - Test 2023_PA - Test 2023.csv')\n"
          ]
        }
      ]
    },
    {
      "cell_type": "code",
      "source": [
        "df_2023 = df_2023[columns_to_analyze]\n",
        "df_2023 = df_2023[df_2023['Vendor'].isin(['PROXIMO SPIRITS  ( 6108 )'])]\n",
        "len(df_2023)"
      ],
      "metadata": {
        "id": "TLmTdpEE6zZc",
        "outputId": "53e3a6e1-a01c-4497-e808-454f49974249",
        "colab": {
          "base_uri": "https://localhost:8080/"
        }
      },
      "execution_count": 9,
      "outputs": [
        {
          "output_type": "execute_result",
          "data": {
            "text/plain": [
              "429750"
            ]
          },
          "metadata": {},
          "execution_count": 9
        }
      ]
    },
    {
      "cell_type": "code",
      "source": [
        "df_2022 = pd.read_csv('/content/drive/MyDrive/PA - Test 2022_PA - Test 2022.csv')\n",
        "df_2022['Year'] = 2022"
      ],
      "metadata": {
        "id": "OVUHahWejZl6",
        "outputId": "90eea388-41c9-4cf3-88e7-667898e58181",
        "colab": {
          "base_uri": "https://localhost:8080/"
        }
      },
      "execution_count": 16,
      "outputs": [
        {
          "output_type": "stream",
          "name": "stderr",
          "text": [
            "<ipython-input-16-99dd035ba360>:1: DtypeWarning: Columns (1,8,9,10,11,12,13,14) have mixed types. Specify dtype option on import or set low_memory=False.\n",
            "  df_2022 = pd.read_csv('/content/drive/MyDrive/PA - Test 2022_PA - Test 2022.csv')\n"
          ]
        }
      ]
    },
    {
      "cell_type": "code",
      "source": [
        "df_2022 = df_2022[columns_to_analyze]\n",
        "df_2022 = df_2022[df_2022['Vendor'].isin(['PROXIMO SPIRITS  ( 6108 )'])]\n",
        "len(df_2022)"
      ],
      "metadata": {
        "id": "5TltsU-4qQPJ",
        "outputId": "7194b552-0689-401d-8805-5018c5db7ed6",
        "colab": {
          "base_uri": "https://localhost:8080/"
        }
      },
      "execution_count": 11,
      "outputs": [
        {
          "output_type": "execute_result",
          "data": {
            "text/plain": [
              "293424"
            ]
          },
          "metadata": {},
          "execution_count": 11
        }
      ]
    },
    {
      "cell_type": "code",
      "source": [
        "#unique_brands_list = df_2024['DISCUS Brand Family'].unique().tolist()\n",
        "#print(unique_brands_list)"
      ],
      "metadata": {
        "id": "EinI0-V1r10B"
      },
      "execution_count": 12,
      "outputs": []
    },
    {
      "cell_type": "markdown",
      "source": [
        "## Merging Datasets"
      ],
      "metadata": {
        "id": "KoQoLXQTplbw"
      }
    },
    {
      "cell_type": "code",
      "source": [
        "combined_df = pd.concat([df_2022, df_2023, df_2024], ignore_index=True)"
      ],
      "metadata": {
        "id": "ag67hjDHpkwU"
      },
      "execution_count": 17,
      "outputs": []
    },
    {
      "cell_type": "code",
      "source": [
        "combined_df['Year'].unique()"
      ],
      "metadata": {
        "id": "fppFPf51FHSR",
        "outputId": "0ca84df5-5d52-4e76-b333-34edd05afe79",
        "colab": {
          "base_uri": "https://localhost:8080/"
        }
      },
      "execution_count": 19,
      "outputs": [
        {
          "output_type": "execute_result",
          "data": {
            "text/plain": [
              "array([2022, 2023, 2024])"
            ]
          },
          "metadata": {},
          "execution_count": 19
        }
      ]
    }
  ]
}